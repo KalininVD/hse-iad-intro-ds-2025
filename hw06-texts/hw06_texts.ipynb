{
  "cells": [
    {
      "cell_type": "markdown",
      "metadata": {
        "id": "Ffq6A2-ifzAA"
      },
      "source": [
        "# Интеллектуальный анализ данных – весна 2025\n",
        "# Домашнее задание 6: классификация текстов"
      ]
    },
    {
      "cell_type": "markdown",
      "metadata": {
        "id": "EPcxtekTA1Sm"
      },
      "source": [
        "Правила:\n",
        "\n",
        "\n",
        "\n",
        "*   Домашнее задание оценивается в 10 баллов.\n",
        "*   Можно использовать без доказательства любые результаты, встречавшиеся на лекциях или семинарах по курсу, если получение этих результатов не является вопросом задания.\n",
        "*  Можно использовать любые свободные источники с *обязательным* указанием ссылки на них.\n",
        "*  Плагиат не допускается. При обнаружении случаев списывания, 0 за работу выставляется всем участникам нарушения, даже если можно установить, кто у кого списал.\n",
        "*  Старайтесь сделать код как можно более оптимальным. В частности, будет штрафоваться использование циклов в тех случаях, когда операцию можно совершить при помощи инструментов библиотек, о которых рассказывалось в курсе.\n",
        "* Если в задании есть вопрос на рассуждение, то за отсутствие ответа на него балл за задание будет снижен вполовину."
      ]
    },
    {
      "cell_type": "markdown",
      "metadata": {
        "id": "itRtFtrOf0_b"
      },
      "source": [
        "В этом домашнем задании вам предстоит построить классификатор текстов.\n",
        "\n",
        "Будем предсказывать эмоциональную окраску твиттов о коронавирусе.\n",
        "\n"
      ]
    },
    {
      "cell_type": "code",
      "execution_count": 1,
      "metadata": {
        "id": "tNGRVO7_g9mz"
      },
      "outputs": [],
      "source": [
        "import numpy as np\n",
        "import pandas as pd\n",
        "import matplotlib.pyplot as plt\n",
        "import seaborn as sns\n",
        "\n",
        "from typing import Tuple, Iterable, Optional\n",
        "from string import punctuation, whitespace\n",
        "from collections import Counter\n",
        "\n",
        "from sklearn.model_selection import train_test_split\n",
        "from sklearn.preprocessing import OneHotEncoder, StandardScaler\n",
        "from sklearn.feature_extraction.text import CountVectorizer, TfidfVectorizer\n",
        "from sklearn.linear_model import LogisticRegression\n",
        "from sklearn.metrics import accuracy_score\n",
        "\n",
        "# import nltk\n",
        "# nltk.download('stopwords')\n",
        "\n",
        "from nltk.corpus import stopwords\n",
        "from nltk.tokenize import TweetTokenizer\n",
        "from nltk.stem.snowball import EnglishStemmer\n",
        "\n",
        "# Поскольку стемминг будем использовать только для английского языка,\n",
        "# можно использовать сразу EnglishStemmer вместо SnowballStemmer('english')\n",
        "\n",
        "from scipy.sparse import csr_matrix, hstack as hstack_sparse\n",
        "\n",
        "from operator import itemgetter"
      ]
    },
    {
      "cell_type": "code",
      "execution_count": 2,
      "metadata": {
        "colab": {
          "base_uri": "https://localhost:8080/",
          "height": 348
        },
        "id": "zOy8iHJQg_Ss",
        "outputId": "6a32c325-1b9a-4895-ab22-5e985016da91"
      },
      "outputs": [
        {
          "data": {
            "text/html": [
              "<div>\n",
              "<style scoped>\n",
              "    .dataframe tbody tr th:only-of-type {\n",
              "        vertical-align: middle;\n",
              "    }\n",
              "\n",
              "    .dataframe tbody tr th {\n",
              "        vertical-align: top;\n",
              "    }\n",
              "\n",
              "    .dataframe thead th {\n",
              "        text-align: right;\n",
              "    }\n",
              "</style>\n",
              "<table border=\"1\" class=\"dataframe\">\n",
              "  <thead>\n",
              "    <tr style=\"text-align: right;\">\n",
              "      <th></th>\n",
              "      <th>UserName</th>\n",
              "      <th>ScreenName</th>\n",
              "      <th>Location</th>\n",
              "      <th>TweetAt</th>\n",
              "      <th>OriginalTweet</th>\n",
              "      <th>Sentiment</th>\n",
              "    </tr>\n",
              "  </thead>\n",
              "  <tbody>\n",
              "    <tr>\n",
              "      <th>32126</th>\n",
              "      <td>43320</td>\n",
              "      <td>88272</td>\n",
              "      <td>South Africa</td>\n",
              "      <td>13-04-2020</td>\n",
              "      <td>Shoprite Athlone has confirmed that one of its...</td>\n",
              "      <td>Positive</td>\n",
              "    </tr>\n",
              "    <tr>\n",
              "      <th>29387</th>\n",
              "      <td>39865</td>\n",
              "      <td>84817</td>\n",
              "      <td>London, England</td>\n",
              "      <td>09-04-2020</td>\n",
              "      <td>Our COVID-19 strategy workbook\\r\\r\\n\\r\\r\\nHelp...</td>\n",
              "      <td>Extremely Positive</td>\n",
              "    </tr>\n",
              "    <tr>\n",
              "      <th>27150</th>\n",
              "      <td>37090</td>\n",
              "      <td>82042</td>\n",
              "      <td>NaN</td>\n",
              "      <td>07-04-2020</td>\n",
              "      <td>Normally I fill the neverending void in my hea...</td>\n",
              "      <td>Positive</td>\n",
              "    </tr>\n",
              "    <tr>\n",
              "      <th>14479</th>\n",
              "      <td>21387</td>\n",
              "      <td>66339</td>\n",
              "      <td>NaN</td>\n",
              "      <td>23-03-2020</td>\n",
              "      <td>#COVID2019 #Coronavirus #Corona Danish superma...</td>\n",
              "      <td>Negative</td>\n",
              "    </tr>\n",
              "  </tbody>\n",
              "</table>\n",
              "</div>"
            ],
            "text/plain": [
              "       UserName  ScreenName         Location     TweetAt  \\\n",
              "32126     43320       88272     South Africa  13-04-2020   \n",
              "29387     39865       84817  London, England  09-04-2020   \n",
              "27150     37090       82042              NaN  07-04-2020   \n",
              "14479     21387       66339              NaN  23-03-2020   \n",
              "\n",
              "                                           OriginalTweet           Sentiment  \n",
              "32126  Shoprite Athlone has confirmed that one of its...            Positive  \n",
              "29387  Our COVID-19 strategy workbook\\r\\r\\n\\r\\r\\nHelp...  Extremely Positive  \n",
              "27150  Normally I fill the neverending void in my hea...            Positive  \n",
              "14479  #COVID2019 #Coronavirus #Corona Danish superma...            Negative  "
            ]
          },
          "execution_count": 2,
          "metadata": {},
          "output_type": "execute_result"
        }
      ],
      "source": [
        "df = pd.read_csv('tweets_coronavirus.csv', encoding='latin-1')\n",
        "df.sample(4)"
      ]
    },
    {
      "cell_type": "markdown",
      "metadata": {
        "id": "m2OiDog9ZBlS"
      },
      "source": [
        "Для каждого твитта указано:\n",
        "\n",
        "\n",
        "*   UserName - имя пользователя, заменено на целое число для анонимности\n",
        "*   ScreenName - отображающееся имя пользователя, заменено на целое число для анонимности\n",
        "*   Location - местоположение\n",
        "*   TweetAt - дата создания твитта\n",
        "*   OriginalTweet - текст твитта\n",
        "*   Sentiment - эмоциональная окраска твитта (целевая переменная)\n",
        "\n"
      ]
    },
    {
      "cell_type": "markdown",
      "metadata": {
        "id": "pZTMseDkhTC7"
      },
      "source": [
        "## Задание 1 Подготовка (0.5 балла)"
      ]
    },
    {
      "cell_type": "markdown",
      "metadata": {
        "id": "Xx2-odn9hdAW"
      },
      "source": [
        "Целевая переменная находится в колонке `Sentiment`.  Преобразуйте ее таким образом, чтобы она стала бинарной: 1 - если у твитта положительная или очень положительная эмоциональная окраска и 0 - если отрицательная или очень отрицательная."
      ]
    },
    {
      "cell_type": "code",
      "execution_count": 3,
      "metadata": {},
      "outputs": [],
      "source": [
        "df[\"Sentiment\"] = df[\"Sentiment\"].str.lower().str.contains(\"positive\").astype(np.int8)"
      ]
    },
    {
      "cell_type": "markdown",
      "metadata": {
        "id": "pGq1FxJ-kBo5"
      },
      "source": [
        "Сбалансированы ли классы?"
      ]
    },
    {
      "cell_type": "code",
      "execution_count": 4,
      "metadata": {
        "id": "ZaQKQ1zEjP15"
      },
      "outputs": [
        {
          "data": {
            "text/plain": [
              "Sentiment\n",
              "1    18046\n",
              "0    15398\n",
              "Name: count, dtype: int64"
            ]
          },
          "execution_count": 4,
          "metadata": {},
          "output_type": "execute_result"
        }
      ],
      "source": [
        "df[\"Sentiment\"].value_counts()"
      ]
    },
    {
      "cell_type": "code",
      "execution_count": 5,
      "metadata": {},
      "outputs": [
        {
          "data": {
            "text/plain": [
              "np.float64(0.17197038576438498)"
            ]
          },
          "execution_count": 5,
          "metadata": {},
          "output_type": "execute_result"
        }
      ],
      "source": [
        "pos = (df[\"Sentiment\"] == 1).sum()\n",
        "neg = (df[\"Sentiment\"] == 0).sum()\n",
        "\n",
        "np.abs(pos - neg) / np.min((pos, neg))"
      ]
    },
    {
      "cell_type": "markdown",
      "metadata": {
        "id": "Ng8BCelMkWb0"
      },
      "source": [
        "**Ответ:** разница в числе объектов с разными целевыми классами не превышает 18%, поэтому можно считать, что классы сбалансированы."
      ]
    },
    {
      "cell_type": "markdown",
      "metadata": {
        "id": "qmSIBSsLk5Zz"
      },
      "source": [
        "Выведите на экран информацию о пропусках в данных. Если пропуски присутствуют заполните их строкой 'Unknown'."
      ]
    },
    {
      "cell_type": "code",
      "execution_count": 6,
      "metadata": {
        "id": "UhUVRkR5kxa7"
      },
      "outputs": [
        {
          "name": "stdout",
          "output_type": "stream",
          "text": [
            "<class 'pandas.core.frame.DataFrame'>\n",
            "RangeIndex: 33444 entries, 0 to 33443\n",
            "Data columns (total 6 columns):\n",
            " #   Column         Non-Null Count  Dtype \n",
            "---  ------         --------------  ----- \n",
            " 0   UserName       33444 non-null  int64 \n",
            " 1   ScreenName     33444 non-null  int64 \n",
            " 2   Location       26395 non-null  object\n",
            " 3   TweetAt        33444 non-null  object\n",
            " 4   OriginalTweet  33444 non-null  object\n",
            " 5   Sentiment      33444 non-null  int8  \n",
            "dtypes: int64(2), int8(1), object(3)\n",
            "memory usage: 1.3+ MB\n"
          ]
        }
      ],
      "source": [
        "df.info()"
      ]
    },
    {
      "cell_type": "markdown",
      "metadata": {},
      "source": [
        "Пропуски есть только в столбце `Location`"
      ]
    },
    {
      "cell_type": "code",
      "execution_count": 7,
      "metadata": {},
      "outputs": [],
      "source": [
        "df[\"Location\"] = df[\"Location\"].fillna(\"Unknown\")"
      ]
    },
    {
      "cell_type": "markdown",
      "metadata": {
        "id": "1tzt27tfjUpq"
      },
      "source": [
        "Разделите данные на обучающие и тестовые в соотношении 7 : 3 и укажите `random_state=0`"
      ]
    },
    {
      "cell_type": "code",
      "execution_count": 8,
      "metadata": {
        "id": "xSLOA9tIj9Z6"
      },
      "outputs": [],
      "source": [
        "train, test = train_test_split(\n",
        "    df, test_size=0.3, shuffle=True, random_state=0,\n",
        ")"
      ]
    },
    {
      "cell_type": "markdown",
      "metadata": {
        "id": "J9RrPUsJlL60"
      },
      "source": [
        "## Задание 2 Токенизация (3 балла)"
      ]
    },
    {
      "cell_type": "markdown",
      "metadata": {
        "id": "2Dz_b7Xopc_R"
      },
      "source": [
        "Постройте словарь на основе обучающей выборки и посчитайте количество встреч каждого токена с использованием самой простой токенизации - деления текстов по пробельным символам и приведения токенов в нижний регистр."
      ]
    },
    {
      "cell_type": "code",
      "execution_count": 9,
      "metadata": {
        "id": "SFr67WOJphny"
      },
      "outputs": [],
      "source": [
        "dictionary = Counter(\n",
        "    train[\"OriginalTweet\"].str.translate(\n",
        "        str.maketrans(dict.fromkeys(whitespace, ' '))\n",
        "    ).str.lower().str.split(' ').explode()\n",
        "\n",
        "    # train[\"OriginalTweet\"].str.lower().str.split(' ').explode()\n",
        "\n",
        "    # Если для split() указать параметр sep=' ', то в качестве токенов будут добавлены\n",
        "    # пустая строка '' и переносы строки '\\n' и '\\r', которые не являются валидными словами,\n",
        "    # поэтому все пробельные символы сначала заменяются на пробелы во всех строках\n",
        ")\n",
        "\n",
        "# И затем можно убрать все вхождения пустых строк, т.к. они точно не несут смысловой нагрузки\n",
        "del dictionary['']"
      ]
    },
    {
      "cell_type": "markdown",
      "metadata": {
        "id": "Pe0h2Jqkpnao"
      },
      "source": [
        "Какой размер словаря получился?"
      ]
    },
    {
      "cell_type": "code",
      "execution_count": 10,
      "metadata": {
        "id": "umyENA7EpokD"
      },
      "outputs": [
        {
          "name": "stdout",
          "output_type": "stream",
          "text": [
            "There are 79714 tokens in the dictionary.\n"
          ]
        }
      ],
      "source": [
        "print(f\"There are {len(dictionary)} tokens in the dictionary.\")"
      ]
    },
    {
      "cell_type": "markdown",
      "metadata": {
        "id": "0d2G1Z-Qpqkd"
      },
      "source": [
        "Выведите 10 самых популярных токенов с количеством встреч каждого из них. Объясните, почему именно эти токены в топе."
      ]
    },
    {
      "cell_type": "code",
      "execution_count": 11,
      "metadata": {},
      "outputs": [],
      "source": [
        "def print_formatted_kv_pairs(\n",
        "        pairs: Optional[Iterable[Tuple[str, int]] | Iterable[Tuple[str, float]] | np.ndarray] = None,\n",
        "        *,\n",
        "        keys: Optional[Iterable[str] | np.ndarray] = None,\n",
        "        values: Optional[Iterable[int] | Iterable[float] | np.ndarray] = None,\n",
        "    ) -> None:\n",
        "\n",
        "    \"\"\"\n",
        "    Вспомогательная функция для печати пар ключ-значение в удобном формате.\n",
        "\n",
        "    :param pairs: пары ключ-значение, которые нужно вывести на экран (обычно строка-число)\n",
        "    :param keys: ключи пар для вывода (обычно строковые значения)\n",
        "    :param values: значения для вывода (обычно целые или вещественные числовые значения)\n",
        "\n",
        "    Если указан параметр `pairs`, то пары ключ-значение будут извлечены из него, а значения `keys` и `values` будут проигнорированы.\n",
        "    \"\"\"\n",
        "\n",
        "    if isinstance(pairs, np.ndarray):\n",
        "        assert pairs.ndim == 2 and pairs.shape[1] == 2\n",
        "        keys, values = pairs[:, 0], pairs[:, 1]\n",
        "    elif pairs is not None:\n",
        "        keys, values = zip(*pairs)\n",
        "    \n",
        "    assert keys is not None and values is not None\n",
        "    keys, values = np.array(keys, dtype=str), np.array(values)\n",
        "\n",
        "    max_key_length = len(str(keys[np.vectorize(str.__len__)(keys).argmax()]))\n",
        "\n",
        "    for key, raw_value in zip(keys, values):\n",
        "        try:\n",
        "            value = float(raw_value)\n",
        "\n",
        "            if value.is_integer():\n",
        "                display_value = int(value)\n",
        "            else:\n",
        "                display_value = round(value, 3)\n",
        "        except:\n",
        "            display_value = raw_value\n",
        "\n",
        "        print(f\"`{key}`:\".rjust(max_key_length + 3), display_value)"
      ]
    },
    {
      "cell_type": "code",
      "execution_count": 12,
      "metadata": {
        "id": "Impi32a_pssg"
      },
      "outputs": [
        {
          "name": "stdout",
          "output_type": "stream",
          "text": [
            "         `the`: 26812\n",
            "          `to`: 23372\n",
            "         `and`: 14678\n",
            "          `of`: 13011\n",
            "           `a`: 11736\n",
            "          `in`: 11192\n",
            "         `for`: 8566\n",
            "`#coronavirus`: 8223\n",
            "          `is`: 7383\n",
            "         `are`: 7048\n"
          ]
        }
      ],
      "source": [
        "print_formatted_kv_pairs(dictionary.most_common(10))"
      ]
    },
    {
      "cell_type": "markdown",
      "metadata": {
        "id": "ZtuJCD0ApuFd"
      },
      "source": [
        "**Ответ:** Большинство токенов из ТОП-10 $-$ это вспомогательные слова английского языка: предлоги и артикли. Поскольку язык твитов $-$ английский, очевидно, в них встречаются англоязычные предложения с частым использованием таких вспомогательных слов. Также высокое число встреч у хэштега `#coronavirus`, по которому, вероятнее всего, и искались твиты для составления датасета. Ну и глагол `to be` в формах `is` и `are` используется крайне часто в английском языке, поэтому тоже входит в самые часто встречающиеся токены.\n",
        "\n",
        "**Вывод:** топ токенов при таком простом подходе описывает исключительно доменную область датасета $-$ англоязычные твиты о коронавирусе, но никак не помогает в определении эмоциональной окраски твитов."
      ]
    },
    {
      "cell_type": "markdown",
      "metadata": {
        "id": "T7DTQDkWsVYp"
      },
      "source": [
        "Удалите стоп-слова из словаря и выведите новый топ-10 токенов (и количество встреч) по популярности.  Что можно сказать  о нем?"
      ]
    },
    {
      "cell_type": "code",
      "execution_count": 13,
      "metadata": {},
      "outputs": [],
      "source": [
        "stop_words = set(stopwords.words('english'))"
      ]
    },
    {
      "cell_type": "code",
      "execution_count": 14,
      "metadata": {
        "id": "8csSAdgTsnFx"
      },
      "outputs": [
        {
          "name": "stdout",
          "output_type": "stream",
          "text": [
            "`#coronavirus`: 8223\n",
            "      `prices`: 3890\n",
            "        `food`: 3820\n",
            "     `grocery`: 3468\n",
            " `supermarket`: 3288\n",
            "      `people`: 3175\n",
            "    `covid-19`: 3173\n",
            "       `store`: 3155\n",
            "    `#covid19`: 2468\n",
            "       `&amp;`: 2313\n"
          ]
        }
      ],
      "source": [
        "dictionary.subtract(dict.fromkeys(stop_words, float('inf')))\n",
        "dictionary = +dictionary # Убрать все слова со значением <= 0\n",
        "\n",
        "print_formatted_kv_pairs(dictionary.most_common(10))"
      ]
    },
    {
      "cell_type": "markdown",
      "metadata": {
        "id": "LZH0x2Lzs-Dh"
      },
      "source": [
        "**Ответ:** Вот теперь ТОП-10 токенов действительно описывает самые часто употребляемые смысловые слова в твитах $-$ это, очевидно, сам коронавирус `COVID-19`, а также волнующие людей проблемы $-$ цены, магазины, еда."
      ]
    },
    {
      "cell_type": "markdown",
      "metadata": {
        "id": "TKSGRyI-uor0"
      },
      "source": [
        "Также выведите 20 самых непопулярных слов (если самых непопулярных слов больше, выведите любые 20 из них) Почему эти токены непопулярны, требуется ли как-то дополнительно работать с ними?"
      ]
    },
    {
      "cell_type": "code",
      "execution_count": 15,
      "metadata": {
        "id": "moArbwfvun9t"
      },
      "outputs": [
        {
          "name": "stdout",
          "output_type": "stream",
          "text": [
            "`https://t.co/ady5hsx8xu`: 1\n",
            "                  `hyatt`: 1\n",
            "                    `mtr`: 1\n",
            "                   `tram`: 1\n",
            "            `tinandbones`: 1\n",
            "`https://t.co/rcbr27ooqk`: 1\n",
            "                  `@wdnr`: 1\n",
            "                   `pedi`: 1\n",
            "                  `emerg`: 1\n",
            "       `#gleadlessvalley`: 1\n",
            "             `#ransacked`: 1\n",
            "                 `abound`: 1\n",
            "              `storeãâ`: 1\n",
            "       `#planetoftheapes`: 1\n",
            "`https://t.co/t338iococb`: 1\n",
            "            `nashville's`: 1\n",
            "                `paused,`: 1\n",
            "               `(rwanda)`: 1\n",
            "`https://t.co/nrblhoy2ud`: 1\n",
            "              `antivirus`: 1\n"
          ]
        }
      ],
      "source": [
        "arr = np.array(dictionary.most_common())\n",
        "unique = arr[arr[:, 1] == '1'] # Токены, встретившиеся ровно один раз\n",
        "indices = np.random.choice(len(unique), 20)\n",
        "print_formatted_kv_pairs(unique[indices])"
      ]
    },
    {
      "cell_type": "markdown",
      "metadata": {
        "id": "uRp3J1gQunlR"
      },
      "source": [
        "**Ответ:** Очень много токенов встретилось во всей `train` выборке только один раз. Многие из них содержат непечатные символы (возможно, смайлики или дополнительные символы, не входящие в латиницу). Также можно заметить обилие однотипных токенов, явно обозначающих конкретных пользователей твиттера $-$ имена пользователей, начинающиеся на символ `@`, а также ссылки на страницы пользователей, начинающиеся на `https://t.co/`. Ещё попадаются редкие хэштеги, которые явно были использованы только самим автором твита, поскольку в датасете они встретились всего по одному разу во всех твитах.\n",
        "\n",
        "Поскольку такие токены встретились буквально один раз за всю выборку, они вряд ли помогут определить эмоциональную окраску нового твита. В частности, ссылки на страницы конкретных пользователей явно никак не связаны с положительным или негативным отношением автора твита к проблеме коронавируса."
      ]
    },
    {
      "cell_type": "markdown",
      "metadata": {
        "id": "wx9LQOSPzvjV"
      },
      "source": [
        "Теперь воспользуемся токенайзером получше - TweetTokenizer из библиотеки nltk. Примените его и посмотрите на топ-10 популярных слов. Чем он отличается от топа, который получался раньше? Почему?"
      ]
    },
    {
      "cell_type": "code",
      "execution_count": 16,
      "metadata": {
        "id": "2G1UkyVxzvFY"
      },
      "outputs": [
        {
          "name": "stdout",
          "output_type": "stream",
          "text": [
            "`the`: 24337\n",
            "  `.`: 24118\n",
            " `to`: 22933\n",
            "  `,`: 17571\n",
            "`and`: 14354\n",
            " `of`: 12904\n",
            "  `a`: 11045\n",
            " `in`: 10573\n",
            "  `?`: 9524\n",
            "`for`: 8228\n"
          ]
        }
      ],
      "source": [
        "tokenizer = TweetTokenizer()\n",
        "\n",
        "dictionary = Counter(\n",
        "    train[\"OriginalTweet\"].apply(tokenizer.tokenize).explode()\n",
        ")\n",
        "\n",
        "print_formatted_kv_pairs(dictionary.most_common(10))"
      ]
    },
    {
      "cell_type": "markdown",
      "metadata": {
        "id": "50eVUnJN1Zxl"
      },
      "source": [
        "**Ответ:** В ТОП-10 вошли символы точки, запятой и вопросительного знака кроме очевидных артиклей и предлогов английского языка, из чего можно сделать вывод о том, что TweetTokenizer явно определяет границы слов (токенов) не только по пробельным символам, но и по знакам препинания."
      ]
    },
    {
      "cell_type": "markdown",
      "metadata": {
        "id": "1gqQgiMs11bs"
      },
      "source": [
        "Удалите из словаря стоп-слова и пунктуацию, посмотрите на новый топ-10 слов с количеством встреч, есть ли теперь в нем что-то не похожее на слова?"
      ]
    },
    {
      "cell_type": "code",
      "execution_count": 17,
      "metadata": {
        "id": "0yHWdFrp0Mup"
      },
      "outputs": [
        {
          "name": "stdout",
          "output_type": "stream",
          "text": [
            "           `Â`: 7415\n",
            "           ``: 7311\n",
            "          `19`: 7167\n",
            "`#coronavirus`: 7143\n",
            "           `I`: 5235\n",
            "           ``: 4372\n",
            "      `prices`: 4281\n",
            "       `COVID`: 4218\n",
            "        `food`: 3795\n",
            "       `store`: 3691\n"
          ]
        }
      ],
      "source": [
        "dictionary.subtract(dict.fromkeys(stop_words, float('inf')))\n",
        "dictionary.subtract(dict.fromkeys(punctuation, float('inf')))\n",
        "dictionary = +dictionary\n",
        "\n",
        "print_formatted_kv_pairs(dictionary.most_common(10))"
      ]
    },
    {
      "cell_type": "markdown",
      "metadata": {
        "id": "8ZJqXELP_Yxy"
      },
      "source": [
        "**Ответ:** Уже больше похоже на правильный топ, но в ТОП-10 вошли односимвольные токены, которые явно являются непечатными спецсимволами, по ним вряд ли можно как-то корректно извлекать информацию из твитов."
      ]
    },
    {
      "cell_type": "markdown",
      "metadata": {
        "id": "rzXjMsSB_kXB"
      },
      "source": [
        "Скорее всего в некоторых топах были неотображаемые символы или отдельные буквы не латинского алфавита. Уберем их: удалите из словаря токены из одного символа, позиция которого в таблице Unicode 128 и более (`ord(x) >= 128`)\n",
        "\n",
        "Выведите топ-10 самых популярных и топ-20 непопулярных слов. Чем полученные топы отличаются от итоговых топов, полученных при использовании токенизации по пробелам? Что теперь лучше, а что хуже?"
      ]
    },
    {
      "cell_type": "code",
      "execution_count": 18,
      "metadata": {},
      "outputs": [
        {
          "data": {
            "text/plain": [
              "array(['u', 'a', 'r', 'm', 'G', 'h', 'y', 'T', 'c', 'd', 'n', ' ', 'g',\n",
              "       'f', 'P', 'e', 'i', 's', 'k', 'w', 'b', 'q', 'o', 'x', 'p', 'v',\n",
              "       'l', 't', ',', '1', 'V', 'A', '8', '9', 'D', ':', 'I', 'W', 'C',\n",
              "       '-', 'O', '/', '.', 'L', 'H', 'Z', 'R', '_', 'z', 'j', 'E', 'Y',\n",
              "       '2', '\\r', '\\n', '#', '5', 'M', \"'\", 'N', 'U', '0', 'B', 'F', 'S',\n",
              "       '7', '\\x92', 'X', '\\x82', 'Â', 'Ã', '@', '\"', '6', 'J', '!', '?',\n",
              "       'K', 'Q', '\\x93', '\\x94', '3', '4', '(', ')', ';', '&', '\\x85',\n",
              "       ']', '[', '$', '%', '\\x97', '\\x95', '£', '\\x91', '¶', '\\x83', '*',\n",
              "       '=', '«', '»', '\\xa0', '+', '\\x96', '|', '\\x80', '©', '¼', '¤',\n",
              "       '±', '~', '¢', '¡', '½', '\\xad', '\\\\', '^', '¨', '·', '³', '²',\n",
              "       '°', '\\x99', '¸', '\\x9f', '}', '{', 'º', '`', '§', '´', '¹',\n",
              "       '\\x98', '¥', '¯', '\\x9a', '¦', '\\x84', '®', '\\x87', '\\x89'],\n",
              "      dtype=object)"
            ]
          },
          "execution_count": 18,
          "metadata": {},
          "output_type": "execute_result"
        }
      ],
      "source": [
        "# Все встречающиеся в постах символы (там далеко не только латинские буквы...)\n",
        "all_symbols = df[\"OriginalTweet\"].apply(set).explode().unique()\n",
        "all_symbols"
      ]
    },
    {
      "cell_type": "code",
      "execution_count": 19,
      "metadata": {},
      "outputs": [
        {
          "name": "stdout",
          "output_type": "stream",
          "text": [
            "          `19`: 7167\n",
            "`#coronavirus`: 7143\n",
            "           `I`: 5235\n",
            "      `prices`: 4281\n",
            "       `COVID`: 4218\n",
            "        `food`: 3795\n",
            "       `store`: 3691\n",
            " `supermarket`: 3373\n",
            "     `grocery`: 3083\n",
            "      `people`: 3047\n"
          ]
        }
      ],
      "source": [
        "odd_symbols = all_symbols[np.vectorize(ord)(all_symbols) >= 128]\n",
        "\n",
        "dictionary.subtract(dict.fromkeys(odd_symbols, float(\"inf\")))\n",
        "dictionary = +dictionary\n",
        "\n",
        "print_formatted_kv_pairs(dictionary.most_common(10))"
      ]
    },
    {
      "cell_type": "code",
      "execution_count": 20,
      "metadata": {},
      "outputs": [
        {
          "name": "stdout",
          "output_type": "stream",
          "text": [
            "             `pipe-dream`: 1\n",
            "                   `2460`: 1\n",
            "              `#MONITORS`: 1\n",
            "      `#Impulsepurchases`: 1\n",
            "                  `Puffs`: 1\n",
            "           `troubleshoot`: 1\n",
            "`https://t.co/COW9VofuqR`: 1\n",
            "          `@Madhumathy15`: 1\n",
            "           `#ninahossain`: 1\n",
            "              `Lafayette`: 1\n",
            "             `@DrJoeAbah`: 1\n",
            "`https://t.co/dkywEPcgMg`: 1\n",
            "                 `balani`: 1\n",
            "                  `asian`: 1\n",
            "                  `resin`: 1\n",
            "                    `Wht`: 1\n",
            "                `enabled`: 1\n",
            "              `#Montreal`: 1\n",
            "                 `#sorry`: 1\n",
            "`https://t.co/lNBy0RVQEo`: 1\n"
          ]
        }
      ],
      "source": [
        "arr = np.array(dictionary.most_common())\n",
        "unique = arr[arr[:, 1] == '1']\n",
        "indices = np.random.choice(len(unique), 20)\n",
        "print_formatted_kv_pairs(unique[indices])"
      ]
    },
    {
      "cell_type": "markdown",
      "metadata": {
        "id": "KzjHAKIlDvc6"
      },
      "source": [
        "**Ответ:** В ТОП-10 токенов теперь вошли слова `I`, `19` и `COVID`, которые в целом не несут смысловой нагрузки по-отдельности, хотя высокое число упоминаний `COVID` и `19` достаточно очевидно. Также нужно отметить, что TweetTokenizer сохраняет регистр всех слов, поэтому абсолютные значения количества встреч у токенов отличаются.\n",
        "\n",
        "Среди самых непопулярных токенов в целом такая же картина, как и раньше, за исключением того факта, что теперь пунктуация полностью исключена из всех токенов, а спецсимволы встречаются в составе других токенов реже (были предварительно отсечены знаком препинания).\n",
        "\n",
        "С точки зрения дальнейшего использования новый словарь лучше предыдущего, но всё-таки стоит рассмотреть возможность устранения различия в одинаковых токенах разного регистра, поскольку по смыслу это действительно одни и те же слова."
      ]
    },
    {
      "cell_type": "markdown",
      "metadata": {
        "id": "EcDf9_6HB2zm"
      },
      "source": [
        "Выведите топ-10 популярных хештегов (токены, первые символы которых - #) с количеством встреч. Что можно сказать о них?"
      ]
    },
    {
      "cell_type": "code",
      "execution_count": 21,
      "metadata": {
        "id": "zk4fygCUBw3l"
      },
      "outputs": [
        {
          "name": "stdout",
          "output_type": "stream",
          "text": [
            " `#coronavirus`: 7143\n",
            "     `#COVID19`: 1844\n",
            "    `#Covid_19`: 1463\n",
            " `#Coronavirus`: 1281\n",
            "   `#COVID2019`: 927\n",
            " `#toiletpaper`: 657\n",
            "     `#covid19`: 568\n",
            "       `#COVID`: 542\n",
            "`#CoronaCrisis`: 426\n",
            " `#CoronaVirus`: 351\n"
          ]
        }
      ],
      "source": [
        "arr = np.array(dictionary.most_common())\n",
        "hash_tags = arr[np.vectorize(str.startswith)(arr[:, 0], '#')]\n",
        "hash_tags_dict = Counter(dict(zip(hash_tags[:, 0], hash_tags[:, 1].astype(int))))\n",
        "print_formatted_kv_pairs(hash_tags_dict.most_common(10))"
      ]
    },
    {
      "cell_type": "markdown",
      "metadata": {
        "id": "-6NeNWBkDxM7"
      },
      "source": [
        "**Ответ:** Очевидно, большинство используемых в твитах хэштегов так или иначе связаны с коронавирусом. Хотя люди также много раз использовали `#toiletpaper` и `#CoronaCrisis`, отображающие самые волнующие людей проблемы :) Но хэштеги про COVID-19 всё-таки сильно чаще были использованы в собранных твитах."
      ]
    },
    {
      "cell_type": "markdown",
      "metadata": {
        "id": "LLYBg7caD5GA"
      },
      "source": [
        "То же самое проделайте для ссылок на сайт https://t.co Сравнима ли популярность ссылок с популярностью хештегов? Будет ли информация о ссылке на конкретную страницу полезна?"
      ]
    },
    {
      "cell_type": "code",
      "execution_count": 22,
      "metadata": {
        "id": "MXbm1oeaCK9S"
      },
      "outputs": [
        {
          "name": "stdout",
          "output_type": "stream",
          "text": [
            "   `https://t.co/oXA7SWtoNd`: 5\n",
            "   `https://t.co/gP3EusapL8`: 4\n",
            "`https://t.co/DefTruI1PfÃÂ`: 3\n",
            "   `https://t.co/WrLHYzIzAA`: 3\n",
            "   `https://t.co/kuwIpF1KQW`: 3\n",
            "   `https://t.co/zjNRx6dKKN`: 3\n",
            "   `https://t.co/3GBBDpdjat`: 3\n",
            "   `https://t.co/e2ZNXajPre`: 3\n",
            "   `https://t.co/CATKegAyOY`: 3\n",
            "   `https://t.co/G63RP042HO`: 3\n"
          ]
        }
      ],
      "source": [
        "arr = np.array(dictionary.most_common())\n",
        "links = arr[np.vectorize(str.startswith)(arr[:, 0], \"https://t.co\")]\n",
        "links_dict = Counter(dict(zip(links[:, 0], links[:, 1].astype(int))))\n",
        "print_formatted_kv_pairs(links_dict.most_common(10))"
      ]
    },
    {
      "cell_type": "markdown",
      "metadata": {
        "id": "at6lRYZ8A07N"
      },
      "source": [
        "**Ответ:** Видно, что ссылки на страницы https://t.co/ имеют крайне низкую популярность (абсолютное количество использований среди всех собранных твитов). Это легко объясняется тем, что редко когда имеет смысл упоминать в твите про коронавирус какую-то конкретную страницу пользователя. В отличие от хэштегов (у которых популярность кстати на 2-3 порядка выше), ссылки на страницы пользователей точно не несут смысловой нагрузки в смысле решения задачи определения эмоциональной окраски твита."
      ]
    },
    {
      "cell_type": "markdown",
      "metadata": {
        "id": "IOGdUU1kBU1D"
      },
      "source": [
        "Используем опыт предыдущих экспериментов и напишем собственный токенайзер, улучшив TweetTokenizer. Функция custom_tokenizer должна:\n",
        "\n",
        "\n",
        "\n",
        "*   Привести текст в нижний регистр\n",
        "*   Применить TweetTokenizer для  выделения токенов\n",
        "*   Удалить стоп-слова, пунктуацию, токены из одного символа с позицией в таблице Unicode 128 и более,  ссылки на t.co\n",
        "\n"
      ]
    },
    {
      "cell_type": "code",
      "execution_count": 23,
      "metadata": {
        "id": "ctEsB6xkFrrK"
      },
      "outputs": [],
      "source": [
        "tweet_tokenizer = TweetTokenizer()\n",
        "\n",
        "punctuation_set = set(punctuation)\n",
        "\n",
        "validate_tokens = np.vectorize(\n",
        "    lambda token: not (\n",
        "        token in stop_words or \\\n",
        "        (len(token) == 1 and (token in punctuation_set or ord(token) >= 128)) or \\\n",
        "        token.startswith(\"https://t.co\")\n",
        "    )\n",
        ")\n",
        "\n",
        "def custom_tokenizer(text: str) -> np.ndarray:\n",
        "    tokens = np.array(tweet_tokenizer.tokenize(text.lower()))\n",
        "\n",
        "    return tokens[validate_tokens(tokens)]"
      ]
    },
    {
      "cell_type": "code",
      "execution_count": 24,
      "metadata": {
        "colab": {
          "base_uri": "https://localhost:8080/"
        },
        "id": "XwbgtYkJGYym",
        "outputId": "5808765b-3448-45e6-ccc1-7cd65f6371ef"
      },
      "outputs": [
        {
          "data": {
            "text/plain": [
              "array(['sample', 'text', '@sample_text', '#sampletext'], dtype='<U19')"
            ]
          },
          "execution_count": 24,
          "metadata": {},
          "output_type": "execute_result"
        }
      ],
      "source": [
        "custom_tokenizer('This is sample text!!!! @Sample_text I, \\x92\\x92 https://t.co/sample  #sampletext')"
      ]
    },
    {
      "cell_type": "markdown",
      "metadata": {
        "id": "wURVABmXHk97"
      },
      "source": [
        "## Задание 3 Векторизация текстов (2 балла)"
      ]
    },
    {
      "cell_type": "markdown",
      "metadata": {
        "id": "H44iXkoHIQfN"
      },
      "source": [
        "Обучите CountVectorizer с использованием custom_tokenizer в качестве токенайзера. Как размер полученного словаря соотносится с размером изначального словаря из начала задания 2?"
      ]
    },
    {
      "cell_type": "code",
      "execution_count": 25,
      "metadata": {
        "colab": {
          "base_uri": "https://localhost:8080/"
        },
        "id": "gHn_limQl3BI",
        "outputId": "8e9c1826-319f-4376-f06e-c30c2eb82648"
      },
      "outputs": [
        {
          "name": "stdout",
          "output_type": "stream",
          "text": [
            "There are 45290 tokens in the dictionary.\n"
          ]
        }
      ],
      "source": [
        "count_vectorizer = CountVectorizer(\n",
        "    token_pattern=None,\n",
        "    tokenizer=custom_tokenizer,\n",
        ").fit(train[\"OriginalTweet\"])\n",
        "\n",
        "print(f\"There are {len(count_vectorizer.vocabulary_)} tokens in the dictionary.\")"
      ]
    },
    {
      "cell_type": "markdown",
      "metadata": {
        "id": "gsfmaSGoItUm"
      },
      "source": [
        "**Ответ:** В словаре было 79714 токенов, теперь стало 45290. Так что очищение от бессмысленных токенов (стоп-слов, непечатных символов, пунктуации и ссылок на страницы пользователей) помогло значительно уменьшить размер словаря."
      ]
    },
    {
      "cell_type": "markdown",
      "metadata": {
        "id": "lm6UHNmqKZT0"
      },
      "source": [
        "Посмотрим на какой-нибудь конкретный твитт:"
      ]
    },
    {
      "cell_type": "code",
      "execution_count": 26,
      "metadata": {
        "id": "aJVjjfqOJh8m"
      },
      "outputs": [
        {
          "data": {
            "text/plain": [
              "('Nice one @SkyNews lets not panic but show ppl in france queueing for food!!! #CoronavirusOutbreak #COVID2019 brainless!! Ffs',\n",
              " np.int8(0))"
            ]
          },
          "execution_count": 26,
          "metadata": {},
          "output_type": "execute_result"
        }
      ],
      "source": [
        "ind = 9023\n",
        "train.iloc[ind]['OriginalTweet'], train.iloc[ind]['Sentiment']"
      ]
    },
    {
      "cell_type": "markdown",
      "metadata": {
        "id": "PBMIHBI5KdaS"
      },
      "source": [
        "Автор твитта не доволен ситуацией с едой во Франции и текст имеет резко негативную окраску.\n",
        "\n",
        "Примените обученный CountVectorizer для векторизации данного текста, и попытайтесь определить самый важный токен и самый неважный токен (токен, компонента которого в векторе максимальна/минимальна, без учета 0). Хорошо ли они определились, почему?"
      ]
    },
    {
      "cell_type": "code",
      "execution_count": 27,
      "metadata": {},
      "outputs": [
        {
          "data": {
            "text/plain": [
              "array(['nice', 'one', '@skynews', 'lets', 'panic', 'show', 'ppl',\n",
              "       'france', 'queueing', 'food', '#coronavirusoutbreak', '#covid2019',\n",
              "       'brainless', 'ffs'], dtype='<U20')"
            ]
          },
          "execution_count": 27,
          "metadata": {},
          "output_type": "execute_result"
        }
      ],
      "source": [
        "custom_tokenizer(train.iloc[ind]['OriginalTweet'])"
      ]
    },
    {
      "cell_type": "code",
      "execution_count": 28,
      "metadata": {},
      "outputs": [
        {
          "name": "stdout",
          "output_type": "stream",
          "text": [
            "`#coronavirusoutbreak`: 1\n",
            "          `#covid2019`: 1\n",
            "            `@skynews`: 1\n",
            "           `brainless`: 1\n",
            "                 `ffs`: 1\n",
            "                `food`: 1\n",
            "              `france`: 1\n",
            "                `lets`: 1\n",
            "                `nice`: 1\n",
            "                 `one`: 1\n",
            "               `panic`: 1\n",
            "                 `ppl`: 1\n",
            "            `queueing`: 1\n",
            "                `show`: 1\n"
          ]
        }
      ],
      "source": [
        "vectorized: csr_matrix = count_vectorizer.transform([train.iloc[ind]['OriginalTweet']]) # type: ignore\n",
        "\n",
        "print_formatted_kv_pairs(keys=count_vectorizer.get_feature_names_out()[vectorized.indices], values=vectorized.data)"
      ]
    },
    {
      "cell_type": "code",
      "execution_count": 29,
      "metadata": {},
      "outputs": [
        {
          "data": {
            "text/plain": [
              "((1, 45290), np.int64(14), 14)"
            ]
          },
          "execution_count": 29,
          "metadata": {},
          "output_type": "execute_result"
        }
      ],
      "source": [
        "vectorized.shape, vectorized.count_nonzero(), len(custom_tokenizer(train.iloc[ind]['OriginalTweet']))"
      ]
    },
    {
      "cell_type": "markdown",
      "metadata": {
        "id": "TpEsl1k_NF4T"
      },
      "source": [
        "**Ответ:** В векторе из 45290 значений только 14 ненулевые, и они все равны 1, поскольку все 14 токенов из этого твита встречаются в нём ровно по одному разу. Таким образом, по такому вектору невозможно выделить более/менее важные токены, значения в этом векторе просто означают частоту вхождения токена в твит."
      ]
    },
    {
      "cell_type": "markdown",
      "metadata": {
        "id": "w4DsEQpLO3J6"
      },
      "source": [
        "Теперь примените TfidfVectorizer и  определите самый важный/неважный токены. Хорошо ли определились, почему?"
      ]
    },
    {
      "cell_type": "code",
      "execution_count": 30,
      "metadata": {
        "id": "uSNzdK3ENGB3"
      },
      "outputs": [
        {
          "name": "stdout",
          "output_type": "stream",
          "text": [
            "There are 45290 tokens in the dictionary.\n"
          ]
        }
      ],
      "source": [
        "tfidf_vectorizer = TfidfVectorizer(\n",
        "    token_pattern=None, # type: ignore\n",
        "    tokenizer=custom_tokenizer,\n",
        ").fit(train[\"OriginalTweet\"])\n",
        "\n",
        "print(f\"There are {len(tfidf_vectorizer.vocabulary_)} tokens in the dictionary.\")"
      ]
    },
    {
      "cell_type": "code",
      "execution_count": 31,
      "metadata": {},
      "outputs": [
        {
          "name": "stdout",
          "output_type": "stream",
          "text": [
            "`#coronavirusoutbreak`: 0.226\n",
            "          `#covid2019`: 0.168\n",
            "            `@skynews`: 0.31\n",
            "           `brainless`: 0.387\n",
            "                 `ffs`: 0.324\n",
            "                `food`: 0.113\n",
            "              `france`: 0.32\n",
            "                `lets`: 0.301\n",
            "                `nice`: 0.254\n",
            "                 `one`: 0.163\n",
            "               `panic`: 0.148\n",
            "                 `ppl`: 0.255\n",
            "            `queueing`: 0.354\n",
            "                `show`: 0.244\n"
          ]
        }
      ],
      "source": [
        "vectorized: csr_matrix = tfidf_vectorizer.transform([train.iloc[ind]['OriginalTweet']]) # type: ignore\n",
        "\n",
        "print_formatted_kv_pairs(keys=tfidf_vectorizer.get_feature_names_out()[vectorized.indices], values=vectorized.data)"
      ]
    },
    {
      "cell_type": "markdown",
      "metadata": {
        "id": "NYao_UhqQADm"
      },
      "source": [
        "**Ответ:** Наибольший вес у токена `brainless` $-$ $0.387$, это как раз отображает, что токен самый важный во всём твите, и из этого можно сделать вывод о негативной окраске твита. Наименьший ненулевой вес у токена `food` $-$ $0.113$, это означает, что по этому токену нельзя определить, положительная или негативная окраска у этого твита. Поскольку TfIDFVectorizer использует данные о частоте вхождений всех токенов в обучающую выборку, то по результату его работы сильно проще выделять более/менее важные токены, чем при использовании простого CountVectorizer."
      ]
    },
    {
      "cell_type": "markdown",
      "metadata": {
        "id": "LGRJPqfWSesQ"
      },
      "source": [
        "Найдите какой-нибудь положительно окрашенный твитт, где TfidfVectorizer хорошо (полезно для определения окраски) выделяет важный токен, поясните пример.\n",
        "\n",
        "*Подсказка:* явно положительные твитты можно искать при помощи положительных слов (good, great, amazing и т. д.)"
      ]
    },
    {
      "cell_type": "code",
      "execution_count": 32,
      "metadata": {},
      "outputs": [
        {
          "data": {
            "text/plain": [
              "('A simple thank you can mean so much Join the movement to thank all the people   the grocery store workers truck drivers first responders health care workers and so many others   who are making sacrifices to support the COVID 19 fight',\n",
              " np.int8(1))"
            ]
          },
          "execution_count": 32,
          "metadata": {},
          "output_type": "execute_result"
        }
      ],
      "source": [
        "ind = 8737\n",
        "train.iloc[ind]['OriginalTweet'], train.iloc[ind]['Sentiment']"
      ]
    },
    {
      "cell_type": "code",
      "execution_count": 33,
      "metadata": {
        "id": "jSjbKPCWk87K"
      },
      "outputs": [
        {
          "name": "stdout",
          "output_type": "stream",
          "text": [
            "        `19`: 0.08\n",
            "      `care`: 0.183\n",
            "     `covid`: 0.085\n",
            "   `drivers`: 0.199\n",
            "     `fight`: 0.19\n",
            "     `first`: 0.175\n",
            "   `grocery`: 0.106\n",
            "    `health`: 0.171\n",
            "      `join`: 0.21\n",
            "    `making`: 0.183\n",
            "      `many`: 0.158\n",
            "      `mean`: 0.224\n",
            "  `movement`: 0.261\n",
            "      `much`: 0.175\n",
            "    `others`: 0.185\n",
            "    `people`: 0.11\n",
            "`responders`: 0.233\n",
            "`sacrifices`: 0.32\n",
            "    `simple`: 0.248\n",
            "     `store`: 0.103\n",
            "   `support`: 0.176\n",
            "     `thank`: 0.341\n",
            "     `truck`: 0.232\n",
            "   `workers`: 0.28\n"
          ]
        }
      ],
      "source": [
        "vectorized: csr_matrix = tfidf_vectorizer.transform([train.iloc[ind]['OriginalTweet']]) # type: ignore\n",
        "\n",
        "print_formatted_kv_pairs(keys=tfidf_vectorizer.get_feature_names_out()[vectorized.indices], values=vectorized.data)"
      ]
    },
    {
      "cell_type": "markdown",
      "metadata": {
        "id": "JTv9ST2_U6NA"
      },
      "source": [
        "**Ответ:** В этом твите явно положительная окраска определяется темой $-$ благодарность людям важных профессий, продолжающих работать во время пандемии на более или менее опасных для здоровья (с точки здения заражения коронавирусом) работах. TfIdfVectorizer определяет самый важный токен $-$ слово `thank` (вес $0.341$), и это дейстительно отражает тематику твита и помогает определить его положительную окраску."
      ]
    },
    {
      "cell_type": "markdown",
      "metadata": {
        "id": "JVEuZm8BHms6"
      },
      "source": [
        "## Задание 4 Обучение первых моделей (1 балл)"
      ]
    },
    {
      "cell_type": "markdown",
      "metadata": {
        "id": "JADkO3sfXdOG"
      },
      "source": [
        "Примените оба векторайзера для получения матриц с признаками текстов.  Выделите целевую переменную."
      ]
    },
    {
      "cell_type": "code",
      "execution_count": 34,
      "metadata": {},
      "outputs": [],
      "source": [
        "cv_features_train = count_vectorizer.transform(train[\"OriginalTweet\"])\n",
        "cv_features_test = count_vectorizer.transform(test[\"OriginalTweet\"])\n",
        "\n",
        "tv_features_train = tfidf_vectorizer.transform(train[\"OriginalTweet\"])\n",
        "tv_features_test = tfidf_vectorizer.transform(test[\"OriginalTweet\"])\n",
        "\n",
        "y_train = train[\"Sentiment\"]\n",
        "y_test = test[\"Sentiment\"]"
      ]
    },
    {
      "cell_type": "markdown",
      "metadata": {
        "id": "_FX1KSOfYSx4"
      },
      "source": [
        "Обучите логистическую регрессию на векторах из обоих векторайзеров. Посчитайте долю правильных ответов на обучающих и тестовых данных. Какой векторайзер показал лучший результат? Что можно сказать о моделях?\n",
        "\n",
        "Используйте `sparse` матрицы (после векторизации), не превращайте их в `numpy.ndarray` или `pd.DataFrame` - может не хватить памяти."
      ]
    },
    {
      "cell_type": "code",
      "execution_count": 35,
      "metadata": {
        "id": "-Tb3eh8UXJ6v"
      },
      "outputs": [
        {
          "name": "stdout",
          "output_type": "stream",
          "text": [
            "Logistic Regression with Count Vectorizer (45290 parameters):\n",
            "Accuracy on train: 0.985\n",
            "Accuracy on test: 0.867\n",
            "Logistic Regression with Tfidf Vectorizer (45290 parameters):\n",
            "Accuracy on train: 0.922\n",
            "Accuracy on test: 0.853\n"
          ]
        }
      ],
      "source": [
        "model_cv = LogisticRegression(n_jobs=-1).fit(cv_features_train, y_train)\n",
        "model_tv = LogisticRegression(n_jobs=-1).fit(tv_features_train, y_train)\n",
        "\n",
        "print(f\"Logistic Regression with Count Vectorizer ({len(model_cv.coef_[0])} parameters):\")\n",
        "print(f\"Accuracy on train: {accuracy_score(y_train, model_cv.predict(cv_features_train)):.3f}\")\n",
        "print(f\"Accuracy on test: {accuracy_score(y_test, model_cv.predict(cv_features_test)):.3f}\")\n",
        "\n",
        "print(f\"Logistic Regression with Tfidf Vectorizer ({len(model_tv.coef_[0])} parameters):\")\n",
        "print(f\"Accuracy on train: {accuracy_score(y_train, model_tv.predict(tv_features_train)):.3f}\")\n",
        "print(f\"Accuracy on test: {accuracy_score(y_test, model_tv.predict(tv_features_test)):.3f}\")"
      ]
    },
    {
      "cell_type": "markdown",
      "metadata": {
        "id": "8y_wO7rCmv7K"
      },
      "source": [
        "**Ответ:** логистическая регрессия на векторах от CountVectorizer дала лучшее качество, чем при использовании TfIdfVectorizer, как на train, так и на test. Сами модели явно отличаются масштабами параметров: все значения векторов от TfIdfVectorizer лежат от $0$ до $1$, а CountVectorizer возвращает вектор с абсолютными значениями частот вхождений токена в твит, соответственно для предсказания одной и той же целевой переменной нужны разные масштабы весов."
      ]
    },
    {
      "cell_type": "markdown",
      "metadata": {
        "id": "rSOR1i3mjrys"
      },
      "source": [
        "## Задание 5 Стемминг (0.5 балла)"
      ]
    },
    {
      "cell_type": "markdown",
      "metadata": {
        "id": "i6ONBWNPjuq-"
      },
      "source": [
        "Для уменьшения словаря можно использовать стемминг.\n",
        "\n",
        "Модифицируйте написанный токенайзер, добавив в него стемминг с использованием SnowballStemmer. Обучите Count- и Tfidf- векторайзеры. Как изменился размер словаря?"
      ]
    },
    {
      "cell_type": "code",
      "execution_count": 36,
      "metadata": {
        "id": "oVfA2-iMkQBb"
      },
      "outputs": [],
      "source": [
        "eng_stemmer = EnglishStemmer()\n",
        "eng_stemmer_stem_vectorized = np.vectorize(eng_stemmer.stem)\n",
        "\n",
        "def custom_stem_tokenizer(text: str) -> np.ndarray:\n",
        "    return eng_stemmer_stem_vectorized(custom_tokenizer(text))"
      ]
    },
    {
      "cell_type": "code",
      "execution_count": 37,
      "metadata": {
        "colab": {
          "base_uri": "https://localhost:8080/"
        },
        "id": "9QmrjYtqnlPd",
        "outputId": "cd91291d-9676-4611-9fc4-28afaed58963"
      },
      "outputs": [
        {
          "data": {
            "text/plain": [
              "array(['sampl', 'text', '@sample_text', '#sampletext', 'ad', 'word',\n",
              "       'check', 'stem'], dtype='<U12')"
            ]
          },
          "execution_count": 37,
          "metadata": {},
          "output_type": "execute_result"
        }
      ],
      "source": [
        "custom_stem_tokenizer('This is sample text!!!! @Sample_text I, \\x92\\x92 https://t.co/sample  #sampletext adding more words to check stemming')"
      ]
    },
    {
      "cell_type": "code",
      "execution_count": 38,
      "metadata": {},
      "outputs": [
        {
          "name": "stdout",
          "output_type": "stream",
          "text": [
            "There are 36634 tokens in the dictionary.\n"
          ]
        }
      ],
      "source": [
        "count_vectorizer = CountVectorizer(\n",
        "    token_pattern=None,\n",
        "    tokenizer=custom_stem_tokenizer,\n",
        ").fit(train[\"OriginalTweet\"])\n",
        "\n",
        "print(f\"There are {len(count_vectorizer.vocabulary_)} tokens in the dictionary.\")"
      ]
    },
    {
      "cell_type": "code",
      "execution_count": 39,
      "metadata": {},
      "outputs": [
        {
          "name": "stdout",
          "output_type": "stream",
          "text": [
            "There are 36634 tokens in the dictionary.\n"
          ]
        }
      ],
      "source": [
        "tfidf_vectorizer = TfidfVectorizer(\n",
        "    token_pattern=None, # type: ignore\n",
        "    tokenizer=custom_stem_tokenizer,\n",
        ").fit(train[\"OriginalTweet\"])\n",
        "\n",
        "print(f\"There are {len(tfidf_vectorizer.vocabulary_)} tokens in the dictionary.\")"
      ]
    },
    {
      "cell_type": "markdown",
      "metadata": {
        "id": "Oyzs5TaAoHP6"
      },
      "source": [
        "**Ответ** Словарь векторайзеров уменьшился с 45290 до 36634 токенов, за счёт \"склеивания\" разных форм слов, именно для этого и нужен был стемминг."
      ]
    },
    {
      "cell_type": "markdown",
      "metadata": {
        "id": "1OkncHI8oRmd"
      },
      "source": [
        "Обучите логистическую регрессию с использованием обоих векторайзеров. Изменилось ли качество? Есть ли смысл применять стемминг?"
      ]
    },
    {
      "cell_type": "code",
      "execution_count": 40,
      "metadata": {},
      "outputs": [],
      "source": [
        "cv_features_train = count_vectorizer.transform(train[\"OriginalTweet\"])\n",
        "cv_features_test = count_vectorizer.transform(test[\"OriginalTweet\"])\n",
        "\n",
        "tv_features_train = tfidf_vectorizer.transform(train[\"OriginalTweet\"])\n",
        "tv_features_test = tfidf_vectorizer.transform(test[\"OriginalTweet\"])\n",
        "\n",
        "y_train = train[\"Sentiment\"]\n",
        "y_test = test[\"Sentiment\"]"
      ]
    },
    {
      "cell_type": "code",
      "execution_count": 41,
      "metadata": {
        "id": "ykZJPphEoZ5W"
      },
      "outputs": [
        {
          "name": "stdout",
          "output_type": "stream",
          "text": [
            "Logistic Regression with Count Vectorizer (36634 parameters):\n",
            "Accuracy on train: 0.972\n",
            "Accuracy on test: 0.867\n",
            "Logistic Regression with Tfidf Vectorizer (36634 parameters):\n",
            "Accuracy on train: 0.917\n",
            "Accuracy on test: 0.856\n"
          ]
        }
      ],
      "source": [
        "model_cv = LogisticRegression(n_jobs=-1).fit(cv_features_train, y_train)\n",
        "model_tv = LogisticRegression(n_jobs=-1).fit(tv_features_train, y_train)\n",
        "\n",
        "print(f\"Logistic Regression with Count Vectorizer ({len(model_cv.coef_[0])} parameters):\")\n",
        "print(f\"Accuracy on train: {accuracy_score(y_train, model_cv.predict(cv_features_train)):.3f}\")\n",
        "print(f\"Accuracy on test: {accuracy_score(y_test, model_cv.predict(cv_features_test)):.3f}\")\n",
        "\n",
        "print(f\"Logistic Regression with Tfidf Vectorizer ({len(model_tv.coef_[0])} parameters):\")\n",
        "print(f\"Accuracy on train: {accuracy_score(y_train, model_tv.predict(tv_features_train)):.3f}\")\n",
        "print(f\"Accuracy on test: {accuracy_score(y_test, model_tv.predict(tv_features_test)):.3f}\")"
      ]
    },
    {
      "cell_type": "markdown",
      "metadata": {
        "id": "bCRlrODro0h8"
      },
      "source": [
        "**Ответ:** Accuracy снизилась как у логистической регрессии, обученной на векторах от CountVectorizer, так и у логистической регрессии, обученной на векторах от TfidfVectorizer. Поэтому можно считать, что стемминг при токенизации не помог улучшить точность предсказаний регрессии."
      ]
    },
    {
      "cell_type": "markdown",
      "metadata": {
        "id": "hYWGQNEDqLC-"
      },
      "source": [
        "## Задание  6 Работа с частотами (1.5 балла)"
      ]
    },
    {
      "cell_type": "markdown",
      "metadata": {
        "id": "8Hq-tl5mqUSn"
      },
      "source": [
        "Еще один способ уменьшить количество признаков - это использовать параметры min_df и max_df при построении векторайзера  эти параметры помогают ограничить требуемую частоту встречаемости токена в документах.\n",
        "\n",
        "По умолчанию берутся все токены, которые встретились хотя бы один раз.\n",
        "\n"
      ]
    },
    {
      "cell_type": "markdown",
      "metadata": {
        "id": "m1SiD4DE3WZ2"
      },
      "source": [
        "Подберите max_df такой, что размер словаря будет 36633 (на 1 меньше, чем было). Почему параметр получился такой большой/маленький?"
      ]
    },
    {
      "cell_type": "code",
      "execution_count": 42,
      "metadata": {
        "colab": {
          "base_uri": "https://localhost:8080/"
        },
        "id": "o3YLb8PViExb",
        "outputId": "b6d67654-d232-4e11-a5ca-6f2145053e98"
      },
      "outputs": [
        {
          "name": "stdout",
          "output_type": "stream",
          "text": [
            "There are 36633 tokens in the dictionary.\n"
          ]
        }
      ],
      "source": [
        "count_vectorizer = CountVectorizer(\n",
        "    token_pattern=None,\n",
        "    tokenizer=custom_stem_tokenizer,\n",
        "    max_df=6985, # max_df=0.29838 тоже работает\n",
        ").fit(train[\"OriginalTweet\"])\n",
        "\n",
        "print(f\"There are {len(count_vectorizer.vocabulary_)} tokens in the dictionary.\")"
      ]
    },
    {
      "cell_type": "markdown",
      "metadata": {
        "id": "UdZYoGZR4UsA"
      },
      "source": [
        "**Ответ:** Минимальное значение `max_df`, при котором размер словаря уменьшается ровно на $1$ $-$ это $6985$ (также можно указать $0.29838$, если записывать в диапазоне $[0; 1]$ $-$ это означает относительную частоту крайнего токена среди всей обучающей выборки). $6985$ $-$ это число, на $1$ меньшее числа вхождений крайнего токена, который и выбрасывается из словаря."
      ]
    },
    {
      "cell_type": "markdown",
      "metadata": {
        "id": "_gRIUaB1u32f"
      },
      "source": [
        "Подберите min_df (используйте дефолтное значение max_df) в CountVectorizer таким образом, чтобы размер словаря был ~3700 токенов (при использовании токенайзера со стеммингом), а качество осталось таким же, как и было. Что можно сказать о результатах?"
      ]
    },
    {
      "cell_type": "code",
      "execution_count": 43,
      "metadata": {
        "colab": {
          "base_uri": "https://localhost:8080/"
        },
        "id": "kSnMJkn9XmsT",
        "outputId": "e0d8eb21-e5d7-46b4-e1d1-4b1ae220e9a0"
      },
      "outputs": [
        {
          "name": "stdout",
          "output_type": "stream",
          "text": [
            "There are 3687 tokens in the dictionary.\n"
          ]
        }
      ],
      "source": [
        "count_vectorizer = CountVectorizer(\n",
        "    token_pattern=None,\n",
        "    tokenizer=custom_stem_tokenizer,\n",
        "    min_df=11, # min_df=0.00042717 тоже подходит\n",
        ").fit(train[\"OriginalTweet\"])\n",
        "\n",
        "print(f\"There are {len(count_vectorizer.vocabulary_)} tokens in the dictionary.\")"
      ]
    },
    {
      "cell_type": "code",
      "execution_count": 44,
      "metadata": {},
      "outputs": [],
      "source": [
        "cv_features_train = count_vectorizer.transform(train[\"OriginalTweet\"])\n",
        "cv_features_test = count_vectorizer.transform(test[\"OriginalTweet\"])\n",
        "\n",
        "y_train = train[\"Sentiment\"]\n",
        "y_test = test[\"Sentiment\"]"
      ]
    },
    {
      "cell_type": "code",
      "execution_count": 45,
      "metadata": {},
      "outputs": [
        {
          "name": "stdout",
          "output_type": "stream",
          "text": [
            "Logistic Regression with Count Vectorizer (3687 parameters):\n",
            "Accuracy on train: 0.929\n",
            "Accuracy on test: 0.868\n"
          ]
        }
      ],
      "source": [
        "model_cv = LogisticRegression(n_jobs=-1).fit(cv_features_train, y_train)\n",
        "\n",
        "print(f\"Logistic Regression with Count Vectorizer ({len(model_cv.coef_[0])} parameters):\")\n",
        "print(f\"Accuracy on train: {accuracy_score(y_train, model_cv.predict(cv_features_train)):.3f}\")\n",
        "print(f\"Accuracy on test: {accuracy_score(y_test, model_cv.predict(cv_features_test)):.3f}\")"
      ]
    },
    {
      "cell_type": "markdown",
      "metadata": {
        "id": "3fGYpUIZx0fk"
      },
      "source": [
        "**Ответ:** Точность на train выборке снизилась, а на test незначительно выросла. Так что менее объёмный словарь действительно помогает логистической регрессии лучше обобщаться, поскольку совсем нет необходимости учитывать слишком редко используемые токены при определении эмоциональной окраски твитов."
      ]
    },
    {
      "cell_type": "markdown",
      "metadata": {
        "id": "Gx_h_-inKbBl"
      },
      "source": [
        "В предыдущих заданиях признаки не скалировались. Отскалируйте данные (при словаре размера ~3.7 тысяч, векторизованные CountVectorizer), обучите логистическую регрессию, посмотрите качество и выведите `barplot`, содержащий по 10 токенов, с наибольшим по модулю положительными/отрицательными весами. Что можно сказать об этих токенах?"
      ]
    },
    {
      "cell_type": "code",
      "execution_count": 46,
      "metadata": {
        "id": "KBATXJX6LG9q"
      },
      "outputs": [
        {
          "name": "stdout",
          "output_type": "stream",
          "text": [
            "Logistic Regression with Count Vectorizer (3687 parameters):\n",
            "Accuracy on train: 0.941\n",
            "Accuracy on test: 0.845\n"
          ]
        }
      ],
      "source": [
        "scaler = StandardScaler(with_mean=False).fit(cv_features_train) # with_mean=False, т.к. используются sparse матрицы\n",
        "\n",
        "scaled_cv_features_train = scaler.transform(cv_features_train)\n",
        "scaled_cv_features_test = scaler.transform(cv_features_test)\n",
        "\n",
        "model_cv = LogisticRegression(n_jobs=-1).fit(scaled_cv_features_train, y_train)\n",
        "\n",
        "print(f\"Logistic Regression with Count Vectorizer ({len(model_cv.coef_[0])} parameters):\")\n",
        "print(f\"Accuracy on train: {accuracy_score(y_train, model_cv.predict(scaled_cv_features_train)):.3f}\")\n",
        "print(f\"Accuracy on test: {accuracy_score(y_test, model_cv.predict(scaled_cv_features_test)):.3f}\")"
      ]
    },
    {
      "cell_type": "code",
      "execution_count": 47,
      "metadata": {},
      "outputs": [
        {
          "data": {
            "image/png": "[encoded data removed]",
            "text/plain": [
              "<Figure size 1000x500 with 1 Axes>"
            ]
          },
          "metadata": {},
          "output_type": "display_data"
        }
      ],
      "source": [
        "weights = Counter(dict(zip(count_vectorizer.get_feature_names_out(), model_cv.coef_[0])))\n",
        "\n",
        "important = np.array(weights.most_common()[-1:-11:-1] + weights.most_common(10)[::-1])\n",
        "\n",
        "ax = plt.figure(figsize=(10, 5)).add_subplot()\n",
        "\n",
        "sns.barplot(\n",
        "    x=important[:, 0],\n",
        "    y=important[:, 1].astype(float),\n",
        "    ax=ax,\n",
        ")\n",
        "\n",
        "ax.set_xlabel(\"Token\")\n",
        "ax.set_ylabel(\"Weight\")\n",
        "ax.set_title(\"Most important tokens\")\n",
        "\n",
        "plt.xticks(rotation=45)\n",
        "plt.show();"
      ]
    },
    {
      "cell_type": "markdown",
      "metadata": {
        "id": "ThcEfzY1LHET"
      },
      "source": [
        "**Ответ:** Accuracy на `train` повысилась, а на `test` $-$ снизилась.\n",
        "\n",
        "Среди самых весомых токенов как раз самые важные позитивные токены (с весами $> 0$) и самые важные негативные токены (с весами $< 0$)."
      ]
    },
    {
      "cell_type": "markdown",
      "metadata": {
        "id": "ktJVOdrIHq7B"
      },
      "source": [
        "## Задание 7 Другие признаки (1.5 балла)"
      ]
    },
    {
      "cell_type": "markdown",
      "metadata": {
        "id": "Yt3jRCZ2H0Og"
      },
      "source": [
        "Мы были сконцентрированы на работе с текстами твиттов и не использовали другие признаки - имена пользователя, дату и местоположение"
      ]
    },
    {
      "cell_type": "markdown",
      "metadata": {
        "id": "52wjewCCo_di"
      },
      "source": [
        "Изучите признаки UserName и ScreenName. полезны ли они? Если полезны, то закодируйте их, добавьте к матрице с отскалированными признаками, обучите логистическую регрессию, замерьте качество."
      ]
    },
    {
      "cell_type": "code",
      "execution_count": 48,
      "metadata": {},
      "outputs": [
        {
          "name": "stdout",
          "output_type": "stream",
          "text": [
            "<class 'pandas.core.series.Series'>\n",
            "RangeIndex: 33444 entries, 0 to 33443\n",
            "Series name: UserName\n",
            "Non-Null Count  Dtype\n",
            "--------------  -----\n",
            "33444 non-null  int64\n",
            "dtypes: int64(1)\n",
            "memory usage: 261.4 KB\n"
          ]
        }
      ],
      "source": [
        "df[\"UserName\"].info()"
      ]
    },
    {
      "cell_type": "code",
      "execution_count": 49,
      "metadata": {},
      "outputs": [
        {
          "data": {
            "text/plain": [
              "count    33444.000000\n",
              "mean     24233.721863\n",
              "std      11875.552641\n",
              "min       3800.000000\n",
              "25%      13964.750000\n",
              "50%      24159.500000\n",
              "75%      34514.250000\n",
              "max      44955.000000\n",
              "Name: UserName, dtype: float64"
            ]
          },
          "execution_count": 49,
          "metadata": {},
          "output_type": "execute_result"
        }
      ],
      "source": [
        "df[\"UserName\"].describe()"
      ]
    },
    {
      "cell_type": "code",
      "execution_count": 50,
      "metadata": {},
      "outputs": [
        {
          "data": {
            "text/plain": [
              "UserName\n",
              "3800     1\n",
              "3801     1\n",
              "3802     1\n",
              "3803     1\n",
              "3804     1\n",
              "        ..\n",
              "44949    1\n",
              "44950    1\n",
              "44952    1\n",
              "44953    1\n",
              "44955    1\n",
              "Name: count, Length: 33444, dtype: int64"
            ]
          },
          "execution_count": 50,
          "metadata": {},
          "output_type": "execute_result"
        }
      ],
      "source": [
        "df[\"UserName\"].value_counts()"
      ]
    },
    {
      "cell_type": "code",
      "execution_count": 51,
      "metadata": {},
      "outputs": [
        {
          "data": {
            "text/plain": [
              "True"
            ]
          },
          "execution_count": 51,
          "metadata": {},
          "output_type": "execute_result"
        }
      ],
      "source": [
        "len(df[\"UserName\"].unique()) == len(df[\"UserName\"])"
      ]
    },
    {
      "cell_type": "code",
      "execution_count": 52,
      "metadata": {},
      "outputs": [
        {
          "name": "stdout",
          "output_type": "stream",
          "text": [
            "<class 'pandas.core.series.Series'>\n",
            "RangeIndex: 33444 entries, 0 to 33443\n",
            "Series name: ScreenName\n",
            "Non-Null Count  Dtype\n",
            "--------------  -----\n",
            "33444 non-null  int64\n",
            "dtypes: int64(1)\n",
            "memory usage: 261.4 KB\n"
          ]
        }
      ],
      "source": [
        "df[\"ScreenName\"].info()"
      ]
    },
    {
      "cell_type": "code",
      "execution_count": 53,
      "metadata": {},
      "outputs": [
        {
          "data": {
            "text/plain": [
              "count    33444.000000\n",
              "mean     69185.721863\n",
              "std      11875.552641\n",
              "min      48752.000000\n",
              "25%      58916.750000\n",
              "50%      69111.500000\n",
              "75%      79466.250000\n",
              "max      89907.000000\n",
              "Name: ScreenName, dtype: float64"
            ]
          },
          "execution_count": 53,
          "metadata": {},
          "output_type": "execute_result"
        }
      ],
      "source": [
        "df[\"ScreenName\"].describe()"
      ]
    },
    {
      "cell_type": "code",
      "execution_count": 54,
      "metadata": {},
      "outputs": [
        {
          "data": {
            "text/plain": [
              "ScreenName\n",
              "48752    1\n",
              "48753    1\n",
              "48754    1\n",
              "48755    1\n",
              "48756    1\n",
              "        ..\n",
              "89901    1\n",
              "89902    1\n",
              "89904    1\n",
              "89905    1\n",
              "89907    1\n",
              "Name: count, Length: 33444, dtype: int64"
            ]
          },
          "execution_count": 54,
          "metadata": {},
          "output_type": "execute_result"
        }
      ],
      "source": [
        "df[\"ScreenName\"].value_counts()"
      ]
    },
    {
      "cell_type": "code",
      "execution_count": 55,
      "metadata": {},
      "outputs": [
        {
          "data": {
            "text/plain": [
              "True"
            ]
          },
          "execution_count": 55,
          "metadata": {},
          "output_type": "execute_result"
        }
      ],
      "source": [
        "len(df[\"ScreenName\"].unique()) == len(df[\"ScreenName\"])"
      ]
    },
    {
      "cell_type": "code",
      "execution_count": 56,
      "metadata": {},
      "outputs": [
        {
          "data": {
            "text/html": [
              "<div>\n",
              "<style scoped>\n",
              "    .dataframe tbody tr th:only-of-type {\n",
              "        vertical-align: middle;\n",
              "    }\n",
              "\n",
              "    .dataframe tbody tr th {\n",
              "        vertical-align: top;\n",
              "    }\n",
              "\n",
              "    .dataframe thead th {\n",
              "        text-align: right;\n",
              "    }\n",
              "</style>\n",
              "<table border=\"1\" class=\"dataframe\">\n",
              "  <thead>\n",
              "    <tr style=\"text-align: right;\">\n",
              "      <th></th>\n",
              "      <th>UserName</th>\n",
              "      <th>ScreenName</th>\n",
              "      <th>OriginalTweet</th>\n",
              "      <th>Sentiment</th>\n",
              "    </tr>\n",
              "  </thead>\n",
              "  <tbody>\n",
              "    <tr>\n",
              "      <th>23426</th>\n",
              "      <td>32419</td>\n",
              "      <td>77371</td>\n",
              "      <td>Governor @GavinNewsom:\\r\\r\\n\\r\\r\\nItÃÂs nece...</td>\n",
              "      <td>1</td>\n",
              "    </tr>\n",
              "    <tr>\n",
              "      <th>30716</th>\n",
              "      <td>41579</td>\n",
              "      <td>86531</td>\n",
              "      <td>In the wake of the COVID 19 wreaking havoc acr...</td>\n",
              "      <td>0</td>\n",
              "    </tr>\n",
              "    <tr>\n",
              "      <th>20123</th>\n",
              "      <td>28339</td>\n",
              "      <td>73291</td>\n",
              "      <td>@HLiedown The person who abuses the supermarke...</td>\n",
              "      <td>0</td>\n",
              "    </tr>\n",
              "    <tr>\n",
              "      <th>1515</th>\n",
              "      <td>5637</td>\n",
              "      <td>50589</td>\n",
              "      <td>Shout out to all the grocery store employees. ...</td>\n",
              "      <td>0</td>\n",
              "    </tr>\n",
              "    <tr>\n",
              "      <th>26508</th>\n",
              "      <td>36279</td>\n",
              "      <td>81231</td>\n",
              "      <td>#Grocery prices are rising as eat-at-home dema...</td>\n",
              "      <td>0</td>\n",
              "    </tr>\n",
              "    <tr>\n",
              "      <th>30149</th>\n",
              "      <td>40836</td>\n",
              "      <td>85788</td>\n",
              "      <td>Seriously I donÃÂt mind driving an extra mil...</td>\n",
              "      <td>0</td>\n",
              "    </tr>\n",
              "    <tr>\n",
              "      <th>3761</th>\n",
              "      <td>8360</td>\n",
              "      <td>53312</td>\n",
              "      <td>California Launches New Comprehensive, Consume...</td>\n",
              "      <td>1</td>\n",
              "    </tr>\n",
              "    <tr>\n",
              "      <th>12084</th>\n",
              "      <td>18456</td>\n",
              "      <td>63408</td>\n",
              "      <td>ÃÂ Me and terry conversation about the  #cor...</td>\n",
              "      <td>1</td>\n",
              "    </tr>\n",
              "    <tr>\n",
              "      <th>6884</th>\n",
              "      <td>12169</td>\n",
              "      <td>57121</td>\n",
              "      <td>#UnitedKingdom #WestMidland #Coronavirus\\r\\r\\n...</td>\n",
              "      <td>0</td>\n",
              "    </tr>\n",
              "    <tr>\n",
              "      <th>916</th>\n",
              "      <td>4902</td>\n",
              "      <td>49854</td>\n",
              "      <td>Online shopping be like Spring It on up to 75 ...</td>\n",
              "      <td>1</td>\n",
              "    </tr>\n",
              "  </tbody>\n",
              "</table>\n",
              "</div>"
            ],
            "text/plain": [
              "       UserName  ScreenName  \\\n",
              "23426     32419       77371   \n",
              "30716     41579       86531   \n",
              "20123     28339       73291   \n",
              "1515       5637       50589   \n",
              "26508     36279       81231   \n",
              "30149     40836       85788   \n",
              "3761       8360       53312   \n",
              "12084     18456       63408   \n",
              "6884      12169       57121   \n",
              "916        4902       49854   \n",
              "\n",
              "                                           OriginalTweet  Sentiment  \n",
              "23426  Governor @GavinNewsom:\\r\\r\\n\\r\\r\\nItÃÂs nece...          1  \n",
              "30716  In the wake of the COVID 19 wreaking havoc acr...          0  \n",
              "20123  @HLiedown The person who abuses the supermarke...          0  \n",
              "1515   Shout out to all the grocery store employees. ...          0  \n",
              "26508  #Grocery prices are rising as eat-at-home dema...          0  \n",
              "30149  Seriously I donÃÂt mind driving an extra mil...          0  \n",
              "3761   California Launches New Comprehensive, Consume...          1  \n",
              "12084  ÃÂ Me and terry conversation about the  #cor...          1  \n",
              "6884   #UnitedKingdom #WestMidland #Coronavirus\\r\\r\\n...          0  \n",
              "916    Online shopping be like Spring It on up to 75 ...          1  "
            ]
          },
          "execution_count": 56,
          "metadata": {},
          "output_type": "execute_result"
        }
      ],
      "source": [
        "df.sample(10)[[\"UserName\", \"ScreenName\", \"OriginalTweet\", \"Sentiment\"]]"
      ]
    },
    {
      "cell_type": "markdown",
      "metadata": {
        "id": "r8_qR-gnpT3a"
      },
      "source": [
        "**Ответ:** как показало исследование, признаки `UserName` и `ScreenName` являются уникальными для каждого твита из всего датасета, к тому же они и по смыслу не несут полезной информации для определения тональности твитов, а просто идентифицируют автора. Таким образом, использовать для логистической регрессии ни тот, ни другой признак не стоит."
      ]
    },
    {
      "cell_type": "markdown",
      "metadata": {
        "id": "ythEcFSkt7y3"
      },
      "source": [
        "Изучите признак TweetAt в обучающей выборке: преобразуйте его к типу datetime и нарисуйте его гистограмму с разделением по цвету на основе целевой переменной. Полезен ли он? Если полезен, то закодируйте его, добавьте к матрице с отскалированными признаками, обучите логистическую регрессию, замерьте качество."
      ]
    },
    {
      "cell_type": "code",
      "execution_count": 57,
      "metadata": {
        "id": "Lxb_k0JLirNv"
      },
      "outputs": [
        {
          "name": "stdout",
          "output_type": "stream",
          "text": [
            "<class 'pandas.core.series.Series'>\n",
            "RangeIndex: 33444 entries, 0 to 33443\n",
            "Series name: TweetAt\n",
            "Non-Null Count  Dtype \n",
            "--------------  ----- \n",
            "33444 non-null  object\n",
            "dtypes: object(1)\n",
            "memory usage: 261.4+ KB\n"
          ]
        }
      ],
      "source": [
        "df[\"TweetAt\"].info()"
      ]
    },
    {
      "cell_type": "code",
      "execution_count": 58,
      "metadata": {},
      "outputs": [
        {
          "data": {
            "text/plain": [
              "count          33444\n",
              "unique            30\n",
              "top       20-03-2020\n",
              "freq            2851\n",
              "Name: TweetAt, dtype: object"
            ]
          },
          "execution_count": 58,
          "metadata": {},
          "output_type": "execute_result"
        }
      ],
      "source": [
        "df[\"TweetAt\"].describe()"
      ]
    },
    {
      "cell_type": "code",
      "execution_count": 59,
      "metadata": {},
      "outputs": [
        {
          "data": {
            "text/plain": [
              "TweetAt\n",
              "20-03-2020    2851\n",
              "19-03-2020    2644\n",
              "25-03-2020    2455\n",
              "18-03-2020    2256\n",
              "21-03-2020    2197\n",
              "22-03-2020    1733\n",
              "23-03-2020    1668\n",
              "17-03-2020    1616\n",
              "08-04-2020    1516\n",
              "07-04-2020    1469\n",
              "06-04-2020    1382\n",
              "24-03-2020    1196\n",
              "09-04-2020    1186\n",
              "13-04-2020    1157\n",
              "26-03-2020    1014\n",
              "05-04-2020     896\n",
              "10-04-2020     766\n",
              "02-04-2020     753\n",
              "11-04-2020     727\n",
              "12-04-2020     657\n",
              "03-04-2020     656\n",
              "04-04-2020     637\n",
              "16-03-2020     548\n",
              "01-04-2020     505\n",
              "31-03-2020     274\n",
              "27-03-2020     265\n",
              "14-04-2020     224\n",
              "29-03-2020      97\n",
              "30-03-2020      77\n",
              "28-03-2020      22\n",
              "Name: count, dtype: int64"
            ]
          },
          "execution_count": 59,
          "metadata": {},
          "output_type": "execute_result"
        }
      ],
      "source": [
        "df[\"TweetAt\"].value_counts()"
      ]
    },
    {
      "cell_type": "code",
      "execution_count": 60,
      "metadata": {},
      "outputs": [],
      "source": [
        "df[\"TweetAt\"] = pd.to_datetime(df[\"TweetAt\"], format=\"%d-%m-%Y\")\n",
        "\n",
        "train[\"TweetAt\"] = pd.to_datetime(train[\"TweetAt\"], format=\"%d-%m-%Y\")\n",
        "test[\"TweetAt\"] = pd.to_datetime(test[\"TweetAt\"], format=\"%d-%m-%Y\")"
      ]
    },
    {
      "cell_type": "code",
      "execution_count": 61,
      "metadata": {},
      "outputs": [
        {
          "data": {
            "image/png": "[encoded data removed]",
            "text/plain": [
              "<Figure size 1300x500 with 1 Axes>"
            ]
          },
          "metadata": {},
          "output_type": "display_data"
        }
      ],
      "source": [
        "ax = plt.figure(figsize=(13, 5)).add_subplot()\n",
        "\n",
        "sns.histplot(\n",
        "    data=df,\n",
        "    x=\"TweetAt\",\n",
        "    bins=df[\"TweetAt\"].nunique(),\n",
        "    hue=\"Sentiment\",\n",
        "    multiple=\"stack\",\n",
        "    ax=ax,\n",
        ")\n",
        "\n",
        "ax.set_xlabel(\"Date\")\n",
        "ax.set_ylabel(\"Count\")\n",
        "\n",
        "ax.set_title(\"Tweets per day\")\n",
        "\n",
        "plt.show();"
      ]
    },
    {
      "cell_type": "code",
      "execution_count": 62,
      "metadata": {},
      "outputs": [],
      "source": [
        "train_dummies = pd.get_dummies(train[\"TweetAt\"], dtype=np.int8)\n",
        "test_dummies = pd.get_dummies(test[\"TweetAt\"], dtype=np.int8)"
      ]
    },
    {
      "cell_type": "code",
      "execution_count": 63,
      "metadata": {},
      "outputs": [],
      "source": [
        "train_features = hstack_sparse((scaled_cv_features_train, train_dummies))\n",
        "test_features = hstack_sparse((scaled_cv_features_test, test_dummies))"
      ]
    },
    {
      "cell_type": "code",
      "execution_count": 64,
      "metadata": {},
      "outputs": [
        {
          "name": "stdout",
          "output_type": "stream",
          "text": [
            "Logistic Regression with Count Vectorizer (3717 parameters):\n",
            "Accuracy on train: 0.943\n",
            "Accuracy on test: 0.843\n"
          ]
        }
      ],
      "source": [
        "logreg = LogisticRegression(n_jobs=-1).fit(train_features, y_train) # type: ignore\n",
        "\n",
        "print(f\"Logistic Regression with Count Vectorizer ({len(logreg.coef_[0])} parameters):\")\n",
        "print(f\"Accuracy on train: {accuracy_score(y_train, logreg.predict(train_features)):.3f}\") # type: ignore\n",
        "print(f\"Accuracy on test: {accuracy_score(y_test, logreg.predict(test_features)):.3f}\") # type: ignore"
      ]
    },
    {
      "cell_type": "markdown",
      "metadata": {
        "id": "4IdLBdpQxM-G"
      },
      "source": [
        "**Ответ:** Признак `TweetAt` оздачает дату публикации твита. Поскольку в разные дни действительно разная интенсивность постов, а уникальных дат всего $30$ во всём датасете, так что добавим признак к модели. Accuracy при этом немного выросла на `train` и немного упала на `test`."
      ]
    },
    {
      "cell_type": "markdown",
      "metadata": {
        "id": "r2JtRPhNP6qx"
      },
      "source": [
        "Поработайте с признаком Location в обучающей выборке. Сколько уникальных значений?"
      ]
    },
    {
      "cell_type": "code",
      "execution_count": 65,
      "metadata": {
        "id": "xYQZQ1FRNpoe"
      },
      "outputs": [
        {
          "name": "stdout",
          "output_type": "stream",
          "text": [
            "<class 'pandas.core.series.Series'>\n",
            "RangeIndex: 33444 entries, 0 to 33443\n",
            "Series name: Location\n",
            "Non-Null Count  Dtype \n",
            "--------------  ----- \n",
            "33444 non-null  object\n",
            "dtypes: object(1)\n",
            "memory usage: 261.4+ KB\n"
          ]
        }
      ],
      "source": [
        "df[\"Location\"].info()"
      ]
    },
    {
      "cell_type": "code",
      "execution_count": 66,
      "metadata": {},
      "outputs": [
        {
          "data": {
            "text/plain": [
              "count       33444\n",
              "unique      10465\n",
              "top       Unknown\n",
              "freq         7052\n",
              "Name: Location, dtype: object"
            ]
          },
          "execution_count": 66,
          "metadata": {},
          "output_type": "execute_result"
        }
      ],
      "source": [
        "df[\"Location\"].describe()"
      ]
    },
    {
      "cell_type": "code",
      "execution_count": 67,
      "metadata": {},
      "outputs": [
        {
          "data": {
            "text/plain": [
              "Location\n",
              "Unknown                       7052\n",
              "London                         435\n",
              "United States                  416\n",
              "London, England                413\n",
              "Washington, DC                 317\n",
              "                              ... \n",
              "Cedar Falls, IA                  1\n",
              "Parliament House, Canberra       1\n",
              "Jaipur, Rajasthan                1\n",
              "BENGALURU                        1\n",
              "BHAVNAGAR,GUJRAT                 1\n",
              "Name: count, Length: 10465, dtype: int64"
            ]
          },
          "execution_count": 67,
          "metadata": {},
          "output_type": "execute_result"
        }
      ],
      "source": [
        "df[\"Location\"].value_counts()"
      ]
    },
    {
      "cell_type": "markdown",
      "metadata": {},
      "source": [
        "Во всём датасете $10465$ уникальных локаций, из которых пользователи писали посты."
      ]
    },
    {
      "cell_type": "markdown",
      "metadata": {
        "id": "6k4JwpRTQISa"
      },
      "source": [
        "Постройте гистограмму топ-10 по популярности местоположений (исключая Unknown)"
      ]
    },
    {
      "cell_type": "code",
      "execution_count": 68,
      "metadata": {},
      "outputs": [
        {
          "data": {
            "image/png": "[encoded data removed]",
            "text/plain": [
              "<Figure size 1200x600 with 1 Axes>"
            ]
          },
          "metadata": {},
          "output_type": "display_data"
        }
      ],
      "source": [
        "top_locations = df[\"Location\"].value_counts().nlargest(11).index[1:]\n",
        "\n",
        "ax = plt.figure(figsize=(12, 6)).add_subplot()\n",
        "\n",
        "sns.countplot(\n",
        "    data=df[df[\"Location\"].isin(top_locations)],\n",
        "    x=\"Location\",\n",
        "    hue=\"Sentiment\",\n",
        "    order=top_locations,\n",
        "    ax=ax,\n",
        ")\n",
        "\n",
        "ax.set_xlabel(\"Location\")\n",
        "ax.set_ylabel(\"Count\")\n",
        "\n",
        "ax.set_title(\"Top 10 locations by tweet count\")\n",
        "\n",
        "plt.xticks(rotation=45)\n",
        "plt.show();"
      ]
    },
    {
      "cell_type": "markdown",
      "metadata": {
        "id": "ZOsv3lODTfYB"
      },
      "source": [
        "Видно, что многие местоположения включают в себя более точное название места, чем другие (Например, у некоторых стоит London, UK; а у некоторых просто UK или United Kingdom).\n",
        "\n",
        "Создайте новый признак WiderLocation, который содержит самое широкое местоположение (например, из London, UK должно получиться UK). Сколько уникальных категорий теперь? Постройте аналогичную гистограмму."
      ]
    },
    {
      "cell_type": "code",
      "execution_count": 69,
      "metadata": {},
      "outputs": [],
      "source": [
        "df[\"WiderLocation\"] = df[\"Location\"].str.split(\",\").map(itemgetter(-1))\n",
        "train[\"WiderLocation\"] = train[\"Location\"].str.split(\",\").map(itemgetter(-1))\n",
        "test[\"WiderLocation\"] = test[\"Location\"].str.split(\",\").map(itemgetter(-1))"
      ]
    },
    {
      "cell_type": "code",
      "execution_count": 70,
      "metadata": {},
      "outputs": [
        {
          "name": "stdout",
          "output_type": "stream",
          "text": [
            "<class 'pandas.core.series.Series'>\n",
            "RangeIndex: 33444 entries, 0 to 33443\n",
            "Series name: WiderLocation\n",
            "Non-Null Count  Dtype \n",
            "--------------  ----- \n",
            "33444 non-null  object\n",
            "dtypes: object(1)\n",
            "memory usage: 261.4+ KB\n"
          ]
        }
      ],
      "source": [
        "df[\"WiderLocation\"].info()"
      ]
    },
    {
      "cell_type": "code",
      "execution_count": 71,
      "metadata": {},
      "outputs": [
        {
          "data": {
            "text/plain": [
              "count       33444\n",
              "unique       6787\n",
              "top       Unknown\n",
              "freq         7052\n",
              "Name: WiderLocation, dtype: object"
            ]
          },
          "execution_count": 71,
          "metadata": {},
          "output_type": "execute_result"
        }
      ],
      "source": [
        "df[\"WiderLocation\"].describe()"
      ]
    },
    {
      "cell_type": "code",
      "execution_count": 72,
      "metadata": {},
      "outputs": [
        {
          "data": {
            "text/plain": [
              "WiderLocation\n",
              "Unknown            7052\n",
              " England           1227\n",
              " USA               1215\n",
              " CA                 850\n",
              " India              555\n",
              "                   ... \n",
              "oakland               1\n",
              "in your dreams        1\n",
              "tx                    1\n",
              "Jackson TN            1\n",
              "Louisville            1\n",
              "Name: count, Length: 6787, dtype: int64"
            ]
          },
          "execution_count": 72,
          "metadata": {},
          "output_type": "execute_result"
        }
      ],
      "source": [
        "df[\"WiderLocation\"].value_counts()"
      ]
    },
    {
      "cell_type": "markdown",
      "metadata": {},
      "source": [
        "Было $10465$ уникальных локаций, а после обработки стало значительно меньше $-$ $6787$."
      ]
    },
    {
      "cell_type": "code",
      "execution_count": 73,
      "metadata": {},
      "outputs": [
        {
          "data": {
            "image/png": "[encoded data removed]",
            "text/plain": [
              "<Figure size 1000x600 with 1 Axes>"
            ]
          },
          "metadata": {},
          "output_type": "display_data"
        }
      ],
      "source": [
        "top_locations = df[\"WiderLocation\"].value_counts().nlargest(11).index[1:]\n",
        "\n",
        "ax = plt.figure(figsize=(10, 6)).add_subplot()\n",
        "\n",
        "sns.countplot(\n",
        "    data=df[df[\"WiderLocation\"].isin(top_locations)],\n",
        "    x=\"WiderLocation\",\n",
        "    hue=\"Sentiment\",\n",
        "    order=top_locations,\n",
        "    ax=ax,\n",
        ")\n",
        "\n",
        "ax.set_xlabel(\"WiderLocation\")\n",
        "ax.set_ylabel(\"Count\")\n",
        "\n",
        "ax.set_title(\"Top 10 (wider) locations by tweet count\")\n",
        "\n",
        "plt.xticks(rotation=45)\n",
        "plt.show();"
      ]
    },
    {
      "cell_type": "markdown",
      "metadata": {
        "id": "cgyWrD2eVfff"
      },
      "source": [
        "Закодируйте признак WiderLocation с помощью OHE таким образом, чтобы создались только столбцы для местоположений, которые встречаются более одного раза. Сколько таких значений?\n"
      ]
    },
    {
      "cell_type": "code",
      "execution_count": 74,
      "metadata": {
        "id": "SeJBfBWgPvg_"
      },
      "outputs": [],
      "source": [
        "encoder = OneHotEncoder(\n",
        "    min_frequency=2,\n",
        "    handle_unknown=\"ignore\",\n",
        ").fit(train[[\"WiderLocation\"]])"
      ]
    },
    {
      "cell_type": "code",
      "execution_count": 75,
      "metadata": {},
      "outputs": [
        {
          "data": {
            "text/plain": [
              "np.True_"
            ]
          },
          "execution_count": 75,
          "metadata": {},
          "output_type": "execute_result"
        }
      ],
      "source": [
        "(train[\"WiderLocation\"].value_counts() > 1).sum() == len(encoder.categories_[0]) - len(encoder.infrequent_categories_[0]) # type: ignore"
      ]
    },
    {
      "cell_type": "code",
      "execution_count": 76,
      "metadata": {},
      "outputs": [
        {
          "data": {
            "text/plain": [
              "np.int64(1538)"
            ]
          },
          "execution_count": 76,
          "metadata": {},
          "output_type": "execute_result"
        }
      ],
      "source": [
        "(df[\"WiderLocation\"].value_counts() > 1).sum()"
      ]
    },
    {
      "cell_type": "markdown",
      "metadata": {},
      "source": [
        "Во всём датасете $1538$ крупных локаций, из которых минимум два пользователя написали посты."
      ]
    },
    {
      "cell_type": "markdown",
      "metadata": {
        "id": "ZyMX5kZuimPK"
      },
      "source": [
        "Добавьте этот признак к матрице отскалированных текстовых признаков, обучите логистическую регрессию, замерьте качество. Как оно изменилось? Оказался ли признак полезным?"
      ]
    },
    {
      "cell_type": "code",
      "execution_count": 77,
      "metadata": {
        "id": "EO1jNPeeim7A"
      },
      "outputs": [],
      "source": [
        "train_ohe = encoder.transform(train[[\"WiderLocation\"]]).astype(np.int8) # type: ignore\n",
        "test_ohe = encoder.transform(test[[\"WiderLocation\"]]).astype(np.int8) # type: ignore\n",
        "\n",
        "train_features = hstack_sparse([train_features, train_ohe])\n",
        "test_features = hstack_sparse([test_features, test_ohe])"
      ]
    },
    {
      "cell_type": "code",
      "execution_count": 78,
      "metadata": {},
      "outputs": [
        {
          "name": "stdout",
          "output_type": "stream",
          "text": [
            "Logistic Regression with Count Vectorizer (4877 parameters):\n",
            "Accuracy on train: 0.946\n",
            "Accuracy on test: 0.843\n"
          ]
        }
      ],
      "source": [
        "logreg = LogisticRegression(n_jobs=-1).fit(train_features, y_train) # type: ignore\n",
        "\n",
        "print(f\"Logistic Regression with Count Vectorizer ({len(logreg.coef_[0])} parameters):\")\n",
        "print(f\"Accuracy on train: {accuracy_score(y_train, logreg.predict(train_features)):.3f}\") # type: ignore\n",
        "print(f\"Accuracy on test: {accuracy_score(y_test, logreg.predict(test_features)):.3f}\") # type: ignore"
      ]
    },
    {
      "cell_type": "markdown",
      "metadata": {
        "id": "7dHsGlDRYUQt"
      },
      "source": [
        "**Ответ:** Признак `WiderLocation` оказался очень слабо полезным $-$ accuracy немного выросла на `train`, но не поменялась на `test`."
      ]
    }
  ],
  "metadata": {
    "colab": {
      "provenance": []
    },
    "kernelspec": {
      "display_name": "venv (3.12.3)",
      "language": "python",
      "name": "python3"
    },
    "language_info": {
      "codemirror_mode": {
        "name": "ipython",
        "version": 3
      },
      "file_extension": ".py",
      "mimetype": "text/x-python",
      "name": "python",
      "nbconvert_exporter": "python",
      "pygments_lexer": "ipython3",
      "version": "3.12.3"
    }
  },
  "nbformat": 4,
  "nbformat_minor": 0
}
